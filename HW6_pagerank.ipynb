{
  "nbformat": 4,
  "nbformat_minor": 0,
  "metadata": {
    "colab": {
      "provenance": [],
      "collapsed_sections": [],
      "machine_shape": "hm"
    },
    "kernelspec": {
      "name": "python3",
      "display_name": "Python 3"
    }
  },
  "cells": [
    {
      "cell_type": "markdown",
      "metadata": {
        "id": "p0-YhEpP_Ds-"
      },
      "source": [
        "### Setup"
      ]
    },
    {
      "cell_type": "markdown",
      "metadata": {
        "id": "PUUjUvXe3Sjk"
      },
      "source": [
        "First of all, we authenticate a Google Drive client to download the dataset we will be processing in this Colab.\n",
        "\n",
        "**Make sure to follow the interactive instructions.**"
      ]
    },
    {
      "cell_type": "code",
      "metadata": {
        "id": "lRElWs_x2mGh"
      },
      "source": [
        "from pydrive.auth import GoogleAuth\n",
        "from pydrive.drive import GoogleDrive\n",
        "from google.colab import auth\n",
        "from oauth2client.client import GoogleCredentials\n",
        "\n",
        "# Authenticate and create the PyDrive client\n",
        "auth.authenticate_user()\n",
        "gauth = GoogleAuth()\n",
        "gauth.credentials = GoogleCredentials.get_application_default()\n",
        "drive = GoogleDrive(gauth)"
      ],
      "execution_count": 1,
      "outputs": []
    },
    {
      "cell_type": "code",
      "metadata": {
        "id": "QHsFTGUy2n1c"
      },
      "source": [
        "id='1EoolSK32_U74I4FeLox88iuUB_SUUYsI'\n",
        "downloaded = drive.CreateFile({'id': id})\n",
        "downloaded.GetContentFile('web-Stanford.txt')"
      ],
      "execution_count": 2,
      "outputs": []
    },
    {
      "cell_type": "markdown",
      "metadata": {
        "id": "qwtlO4_m_LbQ"
      },
      "source": [
        "If you executed the cells above, you should be able to see the dataset we will use for this Colab under the \"Files\" tab on the left panel.\n",
        "\n",
        "Next, we import some of the common libraries needed for our task."
      ]
    },
    {
      "cell_type": "code",
      "metadata": {
        "id": "twk-K-jilWK7"
      },
      "source": [
        "import pandas as pd\n",
        "import numpy as np\n",
        "import matplotlib.pyplot as plt\n",
        "%matplotlib inline"
      ],
      "execution_count": 3,
      "outputs": []
    },
    {
      "cell_type": "markdown",
      "metadata": {
        "id": "kAYRX2PMm0L6"
      },
      "source": [
        "### Data Loading"
      ]
    },
    {
      "cell_type": "markdown",
      "metadata": {
        "id": "GXzc_R6ArXtL"
      },
      "source": [
        "For this Colab we will be using [NetworkX](https://networkx.github.io), a Python package for the creation, manipulation, and study of the structure, dynamics, and functions of complex networks.\n",
        "\n",
        "The dataset we will analyze is a snapshot of the Web Graph centered around [stanford.edu](https://stanford.edu), collected in 2002. Nodes represent pages from Stanford University (stanford.edu) and directed edges represent hyperlinks between them. [[More Info]](http://snap.stanford.edu/data/web-Stanford.html)"
      ]
    },
    {
      "cell_type": "code",
      "metadata": {
        "id": "LPIadGxvLyyq"
      },
      "source": [
        "import networkx as nx\n",
        "\n",
        "G = nx.read_edgelist('web-Stanford.txt', create_using=nx.DiGraph)"
      ],
      "execution_count": 4,
      "outputs": []
    },
    {
      "cell_type": "code",
      "metadata": {
        "id": "Smd1XvR7MLyE",
        "colab": {
          "base_uri": "https://localhost:8080/"
        },
        "outputId": "89d0daa3-fa35-4225-9bf8-8feb9ba5df5f"
      },
      "source": [
        "print(nx.info(G))"
      ],
      "execution_count": 5,
      "outputs": [
        {
          "output_type": "stream",
          "name": "stdout",
          "text": [
            "DiGraph with 281903 nodes and 2312497 edges\n"
          ]
        }
      ]
    },
    {
      "cell_type": "markdown",
      "metadata": {
        "id": "vbmr23B2rJKR"
      },
      "source": [
        "### Your Task"
      ]
    },
    {
      "cell_type": "markdown",
      "metadata": {
        "id": "x15OQeyys1xd"
      },
      "source": [
        "To begin with, let's simplify our analysis by ignoring the dangling nodes and the disconnected components in the original graph.\n",
        "\n",
        "Use NetworkX to identify the **largest** weakly connected component in the ```G``` graph.  From now on, use this connected component for all the following tasks."
      ]
    },
    {
      "cell_type": "code",
      "metadata": {
        "id": "R9tDwRidIw-Q",
        "colab": {
          "base_uri": "https://localhost:8080/"
        },
        "outputId": "9bef4eba-b689-4ef8-a378-9bcec3a982f3"
      },
      "source": [
        "# YOUR CODE HERE\n",
        "print('nodes:',G.number_of_nodes())\n",
        "print('edges:',G.number_of_edges())\n",
        "\n",
        "lwcc = G.subgraph(max(nx.weakly_connected_components(G), key=len))\n",
        "print('largest weakly connected component:',nx.info(lwcc))"
      ],
      "execution_count": 6,
      "outputs": [
        {
          "output_type": "stream",
          "name": "stdout",
          "text": [
            "nodes: 281903\n",
            "edges: 2312497\n",
            "largest weakly connected component: DiGraph with 255265 nodes and 2234572 edges\n"
          ]
        }
      ]
    },
    {
      "cell_type": "markdown",
      "metadata": {
        "id": "mbYMNjBhuhK-"
      },
      "source": [
        "Compute the PageRank vector, using the default parameters in NetworkX: [https://networkx.github.io/documentation/stable/reference/algorithms/generated/networkx.algorithms.link_analysis.pagerank_alg.pagerank.html#networkx.algorithms.link_analysis.pagerank_alg.pageranky](https://networkx.github.io/documentation/stable/reference/algorithms/generated/networkx.algorithms.link_analysis.pagerank_alg.pagerank.html#networkx.algorithms.link_analysis.pagerank_alg.pagerank)"
      ]
    },
    {
      "cell_type": "code",
      "metadata": {
        "id": "ll-rVh7KVoLA",
        "colab": {
          "base_uri": "https://localhost:8080/"
        },
        "outputId": "9dc3beb4-f774-4c9e-ea45-578c2155fb48"
      },
      "source": [
        "# YOUR CODE HERE\n",
        "pr = nx.pagerank(lwcc)\n",
        "\n",
        "# Top 10 pages\n",
        "count = 0\n",
        "for i in sorted(pr.items(), key=lambda item: item[1], reverse=True):\n",
        "    print(i)\n",
        "    count += 1\n",
        "    if count > 10:\n",
        "        break\n"
      ],
      "execution_count": 9,
      "outputs": [
        {
          "output_type": "stream",
          "name": "stdout",
          "text": [
            "('89073', 0.011051585882434985)\n",
            "('226411', 0.010694113250567905)\n",
            "('241454', 0.009829260884719991)\n",
            "('134832', 0.00650923773721211)\n",
            "('69358', 0.003753708143672675)\n",
            "('67756', 0.003543473943866138)\n",
            "('105607', 0.0032305919516859047)\n",
            "('225872', 0.0031736850016296342)\n",
            "('234704', 0.0031708863624340614)\n",
            "('186750', 0.00314345200380852)\n",
            "('231363', 0.003061480040107788)\n"
          ]
        }
      ]
    },
    {
      "cell_type": "markdown",
      "metadata": {
        "id": "xDx905Wk3FKf"
      },
      "source": [
        "In 1999, Barabási and Albert proposed an elegant mathematical model which can generate graphs with topological properties similar to the Web Graph (also called Scale-free Networks).\n",
        "\n",
        "If you complete the steps below, you should obtain some empirical evidence that the Random Graph model is inferior compared to the Barabási–Albert model when it comes to generating a graph resembling the World Wide Web!"
      ]
    },
    {
      "cell_type": "markdown",
      "metadata": {
        "id": "Ox3ksWEFyaP-"
      },
      "source": [
        "As such, we will use two different graph generator methods, and then we will test how well they approximate the Web Graph structure by means of comparing the respective PageRank vectors. [[NetworkX Graph generators]](https://networkx.github.io/documentation/stable/reference/generators.html#)\n",
        "\n",
        "Using for both methods ```seed = 1```, generate:\n",
        "\n",
        "\n",
        "1.   a random graph (with the fast method), setting ```n``` equal to the number of nodes in the original connected component, and ```p = 0.00008```\n",
        "2.   a Barabasi-Albert graph (with the standard method), setting ```n``` equal to the number of nodes in the original connected component, and finding the right ***integer*** value for ```m``` such as the resulting number of edges **approximates by excess** the number of edges in the original connected component\n",
        "\n",
        "and compute the PageRank vectors for both graphs.\n"
      ]
    },
    {
      "cell_type": "code",
      "metadata": {
        "id": "5Yd94CE9aPJP"
      },
      "source": [
        "# YOUR CODE HERE\n",
        "\n",
        "n = lwcc.number_of_nodes()\n",
        "#1 Random Graph\n",
        "p =0.00008\n",
        "\n",
        "RG = nx.fast_gnp_random_graph(n, p, seed=1, directed=False)\n",
        "\n",
        "#2 Barabasi-Alber Graph\n",
        "# m must be <= n\n",
        "\n",
        "BAG = nx.barabasi_albert_graph(n, n-1, seed=1, initial_graph=None)"
      ],
      "execution_count": 10,
      "outputs": []
    },
    {
      "cell_type": "code",
      "source": [
        "pr_RG = nx.pagerank(RG)\n",
        "# Top 10 pages\n",
        "count = 0\n",
        "for i in sorted(pr_RG.items(), key=lambda item: item[1], reverse=True):\n",
        "    print(i)\n",
        "    count += 1\n",
        "    if count > 10:\n",
        "        break"
      ],
      "metadata": {
        "colab": {
          "base_uri": "https://localhost:8080/"
        },
        "id": "Ner_EVQurIRQ",
        "outputId": "3fbab84d-2157-410b-9e85-557369bf3d8d"
      },
      "execution_count": 11,
      "outputs": [
        {
          "output_type": "stream",
          "name": "stdout",
          "text": [
            "(150787, 7.458986619588909e-06)\n",
            "(14579, 7.3974735409810506e-06)\n",
            "(193475, 7.368176905091742e-06)\n",
            "(141505, 7.348699650919032e-06)\n",
            "(144307, 7.323021888645532e-06)\n",
            "(184745, 7.313541287755495e-06)\n",
            "(129032, 7.299830669613334e-06)\n",
            "(70124, 7.268730168861052e-06)\n",
            "(239691, 7.228833381965614e-06)\n",
            "(127392, 7.197456973720354e-06)\n",
            "(198700, 7.170042370818152e-06)\n"
          ]
        }
      ]
    },
    {
      "cell_type": "code",
      "source": [
        "pr_BAG = nx.pagerank(BAG)\n",
        "# Top 10 pages\n",
        "count = 0\n",
        "for i in sorted(pr_BAG.items(), key=lambda item: item[1], reverse=True):\n",
        "    print(i)\n",
        "    count += 1\n",
        "    if count > 10:\n",
        "        break"
      ],
      "metadata": {
        "colab": {
          "base_uri": "https://localhost:8080/"
        },
        "id": "6bPdjlhruTWL",
        "outputId": "73fd9132-352d-4ebf-e2eb-fac8a504371b"
      },
      "execution_count": 12,
      "outputs": [
        {
          "output_type": "stream",
          "name": "stdout",
          "text": [
            "(0, 0.5150105145690855)\n",
            "(1, 1.89995254100808e-06)\n",
            "(2, 1.89995254100808e-06)\n",
            "(3, 1.89995254100808e-06)\n",
            "(4, 1.89995254100808e-06)\n",
            "(5, 1.89995254100808e-06)\n",
            "(6, 1.89995254100808e-06)\n",
            "(7, 1.89995254100808e-06)\n",
            "(8, 1.89995254100808e-06)\n",
            "(9, 1.89995254100808e-06)\n",
            "(10, 1.89995254100808e-06)\n"
          ]
        }
      ]
    },
    {
      "cell_type": "markdown",
      "metadata": {
        "id": "BlxK42Pi01vN"
      },
      "source": [
        "Compare the PageRank vectors obtained on the generated graphs with the PageRank vector you computed on the original connected component.\n",
        "**Sort** the components of each vector by value, and use cosine similarity as similarity measure. \n",
        "\n",
        "Feel free to use any implementation of the cosine similarity available in third-party libraries, or implement your own with ```numpy```."
      ]
    },
    {
      "cell_type": "code",
      "metadata": {
        "id": "1aUgyeNdUQxs",
        "colab": {
          "base_uri": "https://localhost:8080/"
        },
        "outputId": "8e676857-c4ec-46f8-ea57-07098c4337c4"
      },
      "source": [
        "# YOUR CODE HERE\n",
        "import numpy as np\n",
        "from numpy.linalg import norm\n",
        "\n",
        "# Cosine Similarity is define as Similarity = (A.B) / (||A||.||B||) \n",
        "\n",
        "def CosineSimilarity(A,B):\n",
        "  cosine = np.dot(list(A),list(B))/(norm(list(A))*norm(list(B)))\n",
        "    \n",
        "  return cosine\n",
        "  \n",
        "print(\"sim(pr_RG,pr_BAG) = \",CosineSimilarity(pr_RG, pr_BAG))"
      ],
      "execution_count": 21,
      "outputs": [
        {
          "output_type": "stream",
          "name": "stdout",
          "text": [
            "sim(pr_RG,pr_BAG) =  0.9999999999999998\n"
          ]
        }
      ]
    },
    {
      "cell_type": "markdown",
      "metadata": {
        "id": "SIrXJyVNP2AI"
      },
      "source": [
        "#### **Submission Intruction:**\n",
        "\n",
        "#### Click File -> Download -> Download **.ipynb**, and upload the downloaded file to Blackboard."
      ]
    }
  ]
}